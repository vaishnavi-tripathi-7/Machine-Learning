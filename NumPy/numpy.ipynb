{
 "cells": [
  {
   "cell_type": "markdown",
   "id": "3d3e5472-5527-46e7-975e-c28eadf227f8",
   "metadata": {},
   "source": [
    "# Creating N-d arrays\n"
   ]
  },
  {
   "cell_type": "code",
   "execution_count": 1,
   "id": "50b4cc38-493a-4954-8ef6-762cc3973fe0",
   "metadata": {},
   "outputs": [],
   "source": [
    "import numpy as np"
   ]
  },
  {
   "cell_type": "markdown",
   "id": "fb97f2f3-a586-411a-923c-fda59b8e1e17",
   "metadata": {},
   "source": [
    "type 1"
   ]
  },
  {
   "cell_type": "code",
   "execution_count": 2,
   "id": "d395db46-c0eb-4730-a760-2e22b0428557",
   "metadata": {},
   "outputs": [
    {
     "name": "stdout",
     "output_type": "stream",
     "text": [
      "[1 2 3]\n",
      "[[1 2 3]\n",
      " [4 5 6]\n",
      " [7 8 9]]\n",
      "<class 'numpy.ndarray'>\n"
     ]
    }
   ],
   "source": [
    "a1 = np.array([1,2,3])\n",
    "print(a1)\n",
    "a2= np.array([[1,2,3],[4,5,6],[7,8,9]])\n",
    "print(a2)\n",
    "print(type(a1))"
   ]
  },
  {
   "cell_type": "markdown",
   "id": "f99ec7ce-397f-4838-af40-2a554c5f371f",
   "metadata": {},
   "source": [
    " Type 2 -> default data type -> float"
   ]
  },
  {
   "cell_type": "code",
   "execution_count": 3,
   "id": "20b7aa2e-2434-4ece-9df4-a7f773a62222",
   "metadata": {},
   "outputs": [
    {
     "name": "stdout",
     "output_type": "stream",
     "text": [
      "[[0. 0. 0.]\n",
      " [0. 0. 0.]]\n",
      "[[1. 1. 1.]\n",
      " [1. 1. 1.]]\n"
     ]
    }
   ],
   "source": [
    "a3 = np.zeros((2,3))\n",
    "print(a3  )\n",
    "a4 = np.ones((2,3))\n",
    "print( a4 )\n",
    "# a5 = np.threes((2,3)) <- nothing like this exists after 1 this is only for 1 and 0 "
   ]
  },
  {
   "cell_type": "markdown",
   "id": "71153c1b-385d-4b1a-a59f-627ab7d0be08",
   "metadata": {},
   "source": [
    "Type 3 -> identity matrix <- default float"
   ]
  },
  {
   "cell_type": "code",
   "execution_count": 4,
   "id": "6243d42e-a2d5-4f69-a23e-ae21db846197",
   "metadata": {},
   "outputs": [
    {
     "name": "stdout",
     "output_type": "stream",
     "text": [
      "[[1. 0. 0.]\n",
      " [0. 1. 0.]\n",
      " [0. 0. 1.]]\n"
     ]
    }
   ],
   "source": [
    "a5 = np.identity(3)\n",
    "print(a5)"
   ]
  },
  {
   "cell_type": "markdown",
   "id": "749e38cd-0366-42a0-830c-a39798ec301b",
   "metadata": {},
   "source": [
    "Type 4 -> range function "
   ]
  },
  {
   "cell_type": "code",
   "execution_count": 5,
   "id": "d8f523cd-79a3-41ac-b444-0033da67916f",
   "metadata": {},
   "outputs": [
    {
     "name": "stdout",
     "output_type": "stream",
     "text": [
      "[2 3 4 5 6 7 8 9]   ,  [ 1  4  7 10 13 16 19 22 25 28]\n"
     ]
    }
   ],
   "source": [
    "a6 = np.arange(2,10)\n",
    "a7 = np.arange(1,30,3)\n",
    "print(a6 , a7 , sep=\"   ,  \")"
   ]
  },
  {
   "cell_type": "markdown",
   "id": "e473577b-4e13-4fc6-83e0-de3063794d8a",
   "metadata": {},
   "source": [
    "Type 5 -> linspace <- number of number b/w 2 numbers equally spaced <- default -> float"
   ]
  },
  {
   "cell_type": "code",
   "execution_count": 6,
   "id": "66905434-ae80-453c-ba6a-8ff3215ad9ad",
   "metadata": {},
   "outputs": [
    {
     "name": "stdout",
     "output_type": "stream",
     "text": [
      "[10. 20.],[10.         13.33333333 16.66666667 20.        ]\n",
      "[10.         11.66666667 13.33333333 15.         16.66666667 18.33333333\n",
      " 20.        ]\n"
     ]
    }
   ],
   "source": [
    "a8 = np.linspace(10,20, 2)\n",
    "a9 = np.linspace(10,20, 4)\n",
    "a10 = np.linspace(10,20, 7)\n",
    "print(a8 , a9 , sep=\",\" )\n",
    "print(a10)"
   ]
  },
  {
   "cell_type": "markdown",
   "id": "1868503e-9e01-4f3a-bed7-0b54c32d3276",
   "metadata": {},
   "source": [
    "Type 6 -> copy one array to another"
   ]
  },
  {
   "cell_type": "code",
   "execution_count": 7,
   "id": "309c72bf-ca70-4ac9-8b73-c461eef8b05d",
   "metadata": {},
   "outputs": [
    {
     "data": {
      "text/plain": [
       "array([10., 20.])"
      ]
     },
     "execution_count": 7,
     "metadata": {},
     "output_type": "execute_result"
    }
   ],
   "source": [
    "a11 = a8.copy()\n",
    "a11"
   ]
  },
  {
   "cell_type": "code",
   "execution_count": 8,
   "id": "047ed5c0-5fc7-49e7-ab18-71c193a46828",
   "metadata": {},
   "outputs": [
    {
     "data": {
      "text/plain": [
       "array([0.6781971 , 0.00296822, 0.34045091, 0.00139019, 0.03369943,\n",
       "       0.68349302, 0.57457606, 0.2888736 , 0.32374222, 0.02568304])"
      ]
     },
     "execution_count": 8,
     "metadata": {},
     "output_type": "execute_result"
    }
   ],
   "source": [
    "np.random.rand(10)       # random numbers of size N"
   ]
  },
  {
   "cell_type": "code",
   "execution_count": 9,
   "id": "edd3200e-0b10-4c5e-af3a-8932bc856436",
   "metadata": {},
   "outputs": [
    {
     "data": {
      "text/plain": [
       "array([10, 10, 10, 17, 14, 16, 17, 17])"
      ]
     },
     "execution_count": 9,
     "metadata": {},
     "output_type": "execute_result"
    }
   ],
   "source": [
    "np.random.randint(10,20,8)"
   ]
  },
  {
   "cell_type": "markdown",
   "id": "b58b3b73-0829-46e0-99e8-2a6c0a036aec",
   "metadata": {
    "jp-MarkdownHeadingCollapsed": true
   },
   "source": [
    "# Some Important Attributes (shape, ndim, size, itemsize, reshape, dtype, astype)"
   ]
  },
  {
   "cell_type": "code",
   "execution_count": 10,
   "id": "fca28f8b-92d7-43df-a47e-1ed4461463eb",
   "metadata": {},
   "outputs": [
    {
     "name": "stdout",
     "output_type": "stream",
     "text": [
      "(3,)\n",
      "(2, 3)\n",
      "(2, 2, 3)\n"
     ]
    },
    {
     "data": {
      "text/plain": [
       "tuple"
      ]
     },
     "execution_count": 10,
     "metadata": {},
     "output_type": "execute_result"
    }
   ],
   "source": [
    "# shape \n",
    "a12 = np.array([[[1,2,3],[4,5,6]],[[1,3,4],[3,5,7]]])\n",
    "print( a1.shape )  # np.array([1,2,3])\n",
    "print( a3.shape )  # np.zeros((2,3)) -> default float\n",
    "print(a12.shape) \n",
    "type(a3.shape)\n",
    "\n",
    "\n"
   ]
  },
  {
   "cell_type": "code",
   "execution_count": 11,
   "id": "eedec8ca-d258-44e1-b70f-d628f3d56e00",
   "metadata": {},
   "outputs": [
    {
     "name": "stdout",
     "output_type": "stream",
     "text": [
      "1,2,3\n"
     ]
    }
   ],
   "source": [
    "# ndim -> dimension od matrix\n",
    "print(a1.ndim ,a3.ndim ,a12.ndim , sep=\",\")"
   ]
  },
  {
   "cell_type": "code",
   "execution_count": 12,
   "id": "9b9ee04f-5339-4a3b-8e6b-f0752b10ea6e",
   "metadata": {},
   "outputs": [
    {
     "name": "stdout",
     "output_type": "stream",
     "text": [
      "3,6,12\n"
     ]
    }
   ],
   "source": [
    "# size -> no of elements\n",
    "print(a1.size ,a3.size ,a12.size , sep=\",\")"
   ]
  },
  {
   "cell_type": "code",
   "execution_count": 13,
   "id": "465f3a6a-c087-452a-bbef-c346297f4fa1",
   "metadata": {},
   "outputs": [
    {
     "name": "stdout",
     "output_type": "stream",
     "text": [
      "4,8,4\n"
     ]
    }
   ],
   "source": [
    "# itemsize -> tells size of items in that array in bytes\n",
    "print(a1.itemsize ,a3.itemsize ,a12.itemsize , sep=\",\") # 4 for int 8 for float"
   ]
  },
  {
   "cell_type": "code",
   "execution_count": 14,
   "id": "857fcf1c-51af-48bb-81ae-4adce1060d59",
   "metadata": {},
   "outputs": [
    {
     "name": "stdout",
     "output_type": "stream",
     "text": [
      "[[1]\n",
      " [2]\n",
      " [3]]\n",
      "[[0. 0. 0.]\n",
      " [0. 0. 0.]]\n",
      "[[1 2 3]\n",
      " [4 5 6]\n",
      " [1 3 4]\n",
      " [3 5 7]]\n"
     ]
    }
   ],
   "source": [
    "# Reshape\n",
    "print(a1.reshape(3,1) ,a3.reshape(2,3) ,a12.reshape(4,3) , sep=\"\\n\")"
   ]
  },
  {
   "cell_type": "code",
   "execution_count": 15,
   "id": "1b2fd6fb-f30b-452b-9add-dd4437064496",
   "metadata": {},
   "outputs": [
    {
     "name": "stdout",
     "output_type": "stream",
     "text": [
      "int32,float64,int32\n"
     ]
    }
   ],
   "source": [
    "# dtype -> data type\n",
    "print(a1.dtype ,a3.dtype ,a12.dtype , sep=\",\")"
   ]
  },
  {
   "cell_type": "code",
   "execution_count": 16,
   "id": "cb804ab1-56c9-4fb7-8359-62ae470038b4",
   "metadata": {},
   "outputs": [
    {
     "name": "stdout",
     "output_type": "stream",
     "text": [
      "[1 2 3]\n",
      "[1. 2. 3.]\n"
     ]
    }
   ],
   "source": [
    "# astype -> converts in other datatype -> helps in reducing data size\n",
    "arr15 = np.array([1,2,3])\n",
    "print(arr15)\n",
    "arr16 =arr15.astype('float')\n",
    "print(arr16)"
   ]
  },
  {
   "cell_type": "markdown",
   "id": "8c0534c5-6d8c-4bf3-9b41-cc8cc05823bf",
   "metadata": {
    "jp-MarkdownHeadingCollapsed": true
   },
   "source": [
    "# Indexing, Slicing and Iteration"
   ]
  },
  {
   "cell_type": "code",
   "execution_count": 17,
   "id": "8b339964-785b-4de6-8654-245e9753dd94",
   "metadata": {},
   "outputs": [
    {
     "data": {
      "text/plain": [
       "array([[ 0,  1,  2,  3],\n",
       "       [ 4,  5,  6,  7],\n",
       "       [ 8,  9, 10, 11],\n",
       "       [12, 13, 14, 15],\n",
       "       [16, 17, 18, 19],\n",
       "       [20, 21, 22, 23]])"
      ]
     },
     "execution_count": 17,
     "metadata": {},
     "output_type": "execute_result"
    }
   ],
   "source": [
    "arr17 = np.arange(24).reshape(6,4)\n",
    "arr17"
   ]
  },
  {
   "cell_type": "code",
   "execution_count": 18,
   "id": "53cdb1cb-7394-457d-9668-1cb31cc69f7b",
   "metadata": {},
   "outputs": [
    {
     "data": {
      "text/plain": [
       "array([[ 4,  5,  6,  7],\n",
       "       [ 8,  9, 10, 11]])"
      ]
     },
     "execution_count": 18,
     "metadata": {},
     "output_type": "execute_result"
    }
   ],
   "source": [
    "arr17[1:3] # 1st and 2nd row "
   ]
  },
  {
   "cell_type": "code",
   "execution_count": 19,
   "id": "c31ad7c8-06b6-4646-8305-2a5e4f442c18",
   "metadata": {},
   "outputs": [
    {
     "data": {
      "text/plain": [
       "array([ 8,  9, 10, 11])"
      ]
     },
     "execution_count": 19,
     "metadata": {},
     "output_type": "execute_result"
    }
   ],
   "source": [
    "arr17[2] # 3rd row"
   ]
  },
  {
   "cell_type": "code",
   "execution_count": 20,
   "id": "2c73bb4e-db7e-485c-bf57-d18e5519ec5e",
   "metadata": {},
   "outputs": [
    {
     "data": {
      "text/plain": [
       "array([5, 6])"
      ]
     },
     "execution_count": 20,
     "metadata": {},
     "output_type": "execute_result"
    }
   ],
   "source": [
    "arr17[1][1:3] # indexing for row"
   ]
  },
  {
   "cell_type": "code",
   "execution_count": 21,
   "id": "b3bb8c0c-0fa5-46a7-b3e6-d61ecadd1f6e",
   "metadata": {},
   "outputs": [
    {
     "data": {
      "text/plain": [
       "array([ 1,  5,  9, 13, 17, 21])"
      ]
     },
     "execution_count": 21,
     "metadata": {},
     "output_type": "execute_result"
    }
   ],
   "source": [
    "arr17[:,1] # 2nd col "
   ]
  },
  {
   "cell_type": "code",
   "execution_count": 22,
   "id": "f783c7ad-6f2e-4bf8-ac7c-75d12a194dcd",
   "metadata": {},
   "outputs": [
    {
     "data": {
      "text/plain": [
       "array([[ 1,  2],\n",
       "       [ 5,  6],\n",
       "       [ 9, 10],\n",
       "       [13, 14],\n",
       "       [17, 18],\n",
       "       [21, 22]])"
      ]
     },
     "execution_count": 22,
     "metadata": {},
     "output_type": "execute_result"
    }
   ],
   "source": [
    "arr17[:,1:3] # 2nd and 3rd col"
   ]
  },
  {
   "cell_type": "code",
   "execution_count": 23,
   "id": "9b7f79ff-b4e2-4043-9ebb-8c8390f18ff5",
   "metadata": {},
   "outputs": [
    {
     "data": {
      "text/plain": [
       "array([[ 5,  6],\n",
       "       [ 9, 10]])"
      ]
     },
     "execution_count": 23,
     "metadata": {},
     "output_type": "execute_result"
    }
   ],
   "source": [
    "arr17[1:3,1:3] # sub-matrix "
   ]
  },
  {
   "cell_type": "code",
   "execution_count": 24,
   "id": "14538dda-985a-4752-8944-466d35445427",
   "metadata": {},
   "outputs": [
    {
     "name": "stdout",
     "output_type": "stream",
     "text": [
      "[0 1 2 3]\n",
      "[4 5 6 7]\n",
      "[ 8  9 10 11]\n",
      "[12 13 14 15]\n",
      "[16 17 18 19]\n",
      "[20 21 22 23]\n"
     ]
    }
   ],
   "source": [
    "for i in arr17:\n",
    "    print(i)"
   ]
  },
  {
   "cell_type": "code",
   "execution_count": 25,
   "id": "2d42e5f6-8f1f-4300-8757-849956acd616",
   "metadata": {},
   "outputs": [
    {
     "name": "stdout",
     "output_type": "stream",
     "text": [
      "0 1 2 3 4 5 6 7 8 9 10 11 12 13 14 15 16 17 18 19 20 21 22 23 "
     ]
    }
   ],
   "source": [
    "for i in np.nditer(arr17):\n",
    "    print(i, end=' ')"
   ]
  },
  {
   "cell_type": "markdown",
   "id": "8c64f64d-3c38-453c-9b11-0bc04fc676ed",
   "metadata": {
    "jp-MarkdownHeadingCollapsed": true
   },
   "source": [
    "# operations "
   ]
  },
  {
   "cell_type": "code",
   "execution_count": 26,
   "id": "10e4b5c1-5eb0-45d1-b90d-aa9251363cae",
   "metadata": {},
   "outputs": [
    {
     "name": "stdout",
     "output_type": "stream",
     "text": [
      "[1 2 3 4 5] , [1 2 3 4 5]\n",
      "[ 3  6  9 12 15] , [False False False  True  True] , [ True  True  True  True  True]\n",
      "[ 2  4  6  8 10] , [ 1  4  9 16 25] , [0 0 0 0 0] , [1. 1. 1. 1. 1.]\n",
      "5 , 1 , 15 , 3.0 , 1.4142135623730951\n"
     ]
    }
   ],
   "source": [
    "a1 = np.arange(1,6)\n",
    "a2= np.arange(1,6)\n",
    "print ( a1,a2,sep=' , ' )\n",
    "print( a1*3 , a1>3 , a1<7 ,sep=' , ' )     # scaler operations\n",
    "print(a1+a2 , a1*a2 , a1%a2 , a1/a2 , sep=' , ')     # vector operations\n",
    "print( a1.max() , a1.min(), a1.sum() , a1.mean() , a1.std() ,sep=' , ')\n"
   ]
  },
  {
   "cell_type": "code",
   "execution_count": 27,
   "id": "b1da71ed-db14-470d-8689-0b0f17df74d5",
   "metadata": {},
   "outputs": [
    {
     "name": "stdout",
     "output_type": "stream",
     "text": [
      "[[160 170]\n",
      " [510 545]]\n",
      "[5 6 7 8 9] , [0 5]\n",
      "[ 5  7  9 11 13] , [10 35]\n",
      "[2.5 3.5 4.5 5.5 6.5] , [2. 7.]\n",
      "[2.5 2.5 2.5 2.5 2.5] , [1.41421356 1.41421356]\n"
     ]
    }
   ],
   "source": [
    "a1 = np.arange(10).reshape(2,5)         # [[0 1 2 3 4] [5 6 7 8 9]]\n",
    "a2 = np.arange(10,20).reshape(5,2)            # [[10 11] [12 13] [14 15] [16 17] [18 19]]\n",
    "a3 = a1.dot(a2)            # matrix multiplication\n",
    "print(a3)\n",
    "print( a1.max(axis=0) , a1.min(axis=1), sep=' , ')  # AXIS-0 <-COL & AXIS-1 <-ROW\n",
    "print( a1.sum(axis=0) , a1.sum(axis=1), sep=' , ') \n",
    "print( a1.mean(axis=0) , a1.mean(axis=1), sep=' , ') \n",
    "print( a1.std(axis=0) , a1.std(axis=1), sep=' , ')    # standard deviation"
   ]
  },
  {
   "cell_type": "code",
   "execution_count": 28,
   "id": "63331bc4-b414-4c8f-9500-b8241af45aa5",
   "metadata": {},
   "outputs": [
    {
     "data": {
      "text/plain": [
       "4.5"
      ]
     },
     "execution_count": 28,
     "metadata": {},
     "output_type": "execute_result"
    }
   ],
   "source": [
    "np.median(a1)"
   ]
  },
  {
   "cell_type": "code",
   "execution_count": 29,
   "id": "a0670394-9c4d-4f19-9677-472d36ba6056",
   "metadata": {},
   "outputs": [
    {
     "data": {
      "text/plain": [
       "array([[ 0.        ,  0.84147098,  0.90929743,  0.14112001, -0.7568025 ],\n",
       "       [-0.95892427, -0.2794155 ,  0.6569866 ,  0.98935825,  0.41211849]])"
      ]
     },
     "execution_count": 29,
     "metadata": {},
     "output_type": "execute_result"
    }
   ],
   "source": [
    "np.sin(a1)"
   ]
  },
  {
   "cell_type": "code",
   "execution_count": 30,
   "id": "5035b0b8-8d52-4edb-a8c2-2adc73513bc5",
   "metadata": {},
   "outputs": [
    {
     "data": {
      "text/plain": [
       "array([[1.00000000e+00, 2.71828183e+00, 7.38905610e+00, 2.00855369e+01,\n",
       "        5.45981500e+01],\n",
       "       [1.48413159e+02, 4.03428793e+02, 1.09663316e+03, 2.98095799e+03,\n",
       "        8.10308393e+03]])"
      ]
     },
     "execution_count": 30,
     "metadata": {},
     "output_type": "execute_result"
    }
   ],
   "source": [
    "np.exp(a1)"
   ]
  },
  {
   "cell_type": "code",
   "execution_count": 31,
   "id": "1db443c9-6faa-460e-9a95-92f5f2a2cf2c",
   "metadata": {},
   "outputs": [
    {
     "data": {
      "text/plain": [
       "array([[2.30258509, 2.39789527],\n",
       "       [2.48490665, 2.56494936],\n",
       "       [2.63905733, 2.7080502 ],\n",
       "       [2.77258872, 2.83321334],\n",
       "       [2.89037176, 2.94443898]])"
      ]
     },
     "execution_count": 31,
     "metadata": {},
     "output_type": "execute_result"
    }
   ],
   "source": [
    "np.log(a2)"
   ]
  },
  {
   "cell_type": "markdown",
   "id": "4351167a-ff1e-4b2c-9d16-6ce8e861476d",
   "metadata": {
    "jp-MarkdownHeadingCollapsed": true
   },
   "source": [
    "# reshaping of array ( ravel, reshape, transpose, stacking, splitting )"
   ]
  },
  {
   "cell_type": "code",
   "execution_count": 32,
   "id": "8a84de84-793f-40b6-b1ed-321b955aa64d",
   "metadata": {},
   "outputs": [
    {
     "data": {
      "text/plain": [
       "array([[0, 1, 2, 3, 4],\n",
       "       [5, 6, 7, 8, 9]])"
      ]
     },
     "execution_count": 32,
     "metadata": {},
     "output_type": "execute_result"
    }
   ],
   "source": [
    "a1"
   ]
  },
  {
   "cell_type": "code",
   "execution_count": 33,
   "id": "b314abc8-4f71-468b-8cde-04c14b5f7e91",
   "metadata": {},
   "outputs": [
    {
     "data": {
      "text/plain": [
       "array([0, 1, 2, 3, 4, 5, 6, 7, 8, 9])"
      ]
     },
     "execution_count": 33,
     "metadata": {},
     "output_type": "execute_result"
    }
   ],
   "source": [
    "a1.ravel()        # heigher dimension to 1 dimension"
   ]
  },
  {
   "cell_type": "code",
   "execution_count": 34,
   "id": "00343b20-0030-4435-8c1f-75103dd47f70",
   "metadata": {},
   "outputs": [
    {
     "data": {
      "text/plain": [
       "array([[0, 5],\n",
       "       [1, 6],\n",
       "       [2, 7],\n",
       "       [3, 8],\n",
       "       [4, 9]])"
      ]
     },
     "execution_count": 34,
     "metadata": {},
     "output_type": "execute_result"
    }
   ],
   "source": [
    "a1.transpose()"
   ]
  },
  {
   "cell_type": "code",
   "execution_count": 35,
   "id": "e9ccafbb-9361-4464-9947-8fef81596789",
   "metadata": {},
   "outputs": [
    {
     "name": "stdout",
     "output_type": "stream",
     "text": [
      "[ 1  2  3  4  5 11 12 13 14 15]\n",
      "[[ 1  2  3  4  5]\n",
      " [11 12 13 14 15]]\n"
     ]
    }
   ],
   "source": [
    "a11 = np.arange(1,6)\n",
    "a21 = np.arange(11,16)\n",
    "print(np.hstack((a11,a21)) , np.vstack((a11,a21)) , sep='\\n')"
   ]
  },
  {
   "cell_type": "code",
   "execution_count": 36,
   "id": "0cda5e03-c7fb-4678-b4c7-91b5bc87cea9",
   "metadata": {},
   "outputs": [
    {
     "data": {
      "text/plain": [
       "array([[0, 1, 2, 3, 4],\n",
       "       [5, 6, 7, 8, 9]])"
      ]
     },
     "execution_count": 36,
     "metadata": {},
     "output_type": "execute_result"
    }
   ],
   "source": [
    "a1"
   ]
  },
  {
   "cell_type": "code",
   "execution_count": 37,
   "id": "42e6d2ee-b88c-4b4d-b2d1-9e9eddd5c680",
   "metadata": {},
   "outputs": [
    {
     "name": "stdout",
     "output_type": "stream",
     "text": [
      "[array([[0],\n",
      "       [5]]), array([[1],\n",
      "       [6]]), array([[2],\n",
      "       [7]]), array([[3],\n",
      "       [8]]), array([[4],\n",
      "       [9]])]\n",
      "[array([[0, 1, 2, 3, 4]]), array([[5, 6, 7, 8, 9]])]\n"
     ]
    }
   ],
   "source": [
    "print(np.hsplit(a1,5) , np.vsplit(a1,2) , sep='\\n')"
   ]
  },
  {
   "cell_type": "markdown",
   "id": "ea87e337-30c9-4250-a7dc-40c07ab010d0",
   "metadata": {
    "jp-MarkdownHeadingCollapsed": true
   },
   "source": [
    "# Fancy Indexing"
   ]
  },
  {
   "cell_type": "code",
   "execution_count": 38,
   "id": "8ca6b0b1-2347-48e5-8250-b757b6d14ac4",
   "metadata": {},
   "outputs": [
    {
     "data": {
      "text/plain": [
       "array([[1, 2],\n",
       "       [3, 4],\n",
       "       [5, 6],\n",
       "       [7, 8]])"
      ]
     },
     "execution_count": 38,
     "metadata": {},
     "output_type": "execute_result"
    }
   ],
   "source": [
    "a = np.arange(1,9).reshape(4,2)\n",
    "a"
   ]
  },
  {
   "cell_type": "code",
   "execution_count": 39,
   "id": "681720f9-2f76-45c9-bd67-0bc16ac60241",
   "metadata": {},
   "outputs": [
    {
     "data": {
      "text/plain": [
       "array([[1, 2],\n",
       "       [3, 4],\n",
       "       [7, 8]])"
      ]
     },
     "execution_count": 39,
     "metadata": {},
     "output_type": "execute_result"
    }
   ],
   "source": [
    "a[[0,1,3]]"
   ]
  },
  {
   "cell_type": "markdown",
   "id": "61941c38-fb26-476f-89d5-4462e4fee870",
   "metadata": {
    "jp-MarkdownHeadingCollapsed": true
   },
   "source": [
    "# Indexing with boolean arrays"
   ]
  },
  {
   "cell_type": "code",
   "execution_count": 40,
   "id": "7abfb82d-cd56-461e-a32b-3e5775037d67",
   "metadata": {},
   "outputs": [
    {
     "data": {
      "text/plain": [
       "array([[97, 12, 65, 50],\n",
       "       [31, 91, 67, 55],\n",
       "       [94, 92, 36, 56],\n",
       "       [18, 29,  8, 45],\n",
       "       [98, 99, 97, 81]])"
      ]
     },
     "execution_count": 40,
     "metadata": {},
     "output_type": "execute_result"
    }
   ],
   "source": [
    "a = np.random.randint(1,100,20).reshape(5,4)\n",
    "a"
   ]
  },
  {
   "cell_type": "code",
   "execution_count": 41,
   "id": "4b13a2b6-6477-47cb-8e7c-960d6ec3b216",
   "metadata": {},
   "outputs": [
    {
     "data": {
      "text/plain": [
       "array([97, 65, 50, 91, 67, 55, 94, 92, 56, 45, 98, 99, 97, 81])"
      ]
     },
     "execution_count": 41,
     "metadata": {},
     "output_type": "execute_result"
    }
   ],
   "source": [
    "a[a>40]              # filtering"
   ]
  },
  {
   "cell_type": "code",
   "execution_count": 42,
   "id": "a9a0076e-a105-4945-910e-2c7ef8bd15f5",
   "metadata": {},
   "outputs": [
    {
     "data": {
      "text/plain": [
       "array([45, 99, 81])"
      ]
     },
     "execution_count": 42,
     "metadata": {},
     "output_type": "execute_result"
    }
   ],
   "source": [
    "a[(a>40) & (a%3==0)]"
   ]
  },
  {
   "cell_type": "code",
   "execution_count": 43,
   "id": "cd34d67d-57fa-48ac-9e4c-0a77fa13974e",
   "metadata": {},
   "outputs": [],
   "source": [
    "a[(a>40) & (a%3==0)] = 100000       # assignment"
   ]
  },
  {
   "cell_type": "code",
   "execution_count": 44,
   "id": "b8e52592-1ac3-4892-9c14-58c66c844f73",
   "metadata": {},
   "outputs": [
    {
     "data": {
      "text/plain": [
       "array([[    97,     12,     65,     50],\n",
       "       [    31,     91,     67,     55],\n",
       "       [    94,     92,     36,     56],\n",
       "       [    18,     29,      8, 100000],\n",
       "       [    98, 100000,     97, 100000]])"
      ]
     },
     "execution_count": 44,
     "metadata": {},
     "output_type": "execute_result"
    }
   ],
   "source": [
    "a"
   ]
  },
  {
   "cell_type": "markdown",
   "id": "0bb4028e-59a0-4829-ac39-e6e8bf6a5849",
   "metadata": {
    "jp-MarkdownHeadingCollapsed": true
   },
   "source": [
    "# Graph plotting"
   ]
  },
  {
   "cell_type": "code",
   "execution_count": 45,
   "id": "043c4cc1-e9d7-4a03-93d4-7b661eb560c6",
   "metadata": {},
   "outputs": [
    {
     "data": {
      "image/png": "[encoded data removed]",
      "text/plain": [
       "<Figure size 640x480 with 1 Axes>"
      ]
     },
     "metadata": {},
     "output_type": "display_data"
    }
   ],
   "source": [
    "x= np.linspace(-40,40,100)\n",
    "y = np.sin(x)\n",
    "import matplotlib.pyplot as plt\n",
    "%matplotlib inline\n",
    "plt.plot(x,y)\n",
    "plt.show()"
   ]
  },
  {
   "cell_type": "markdown",
   "id": "5cba47c5-f11e-44c0-a972-95848aeea7a5",
   "metadata": {
    "jp-MarkdownHeadingCollapsed": true
   },
   "source": [
    "# Broadcasting"
   ]
  },
  {
   "cell_type": "code",
   "execution_count": 46,
   "id": "131b26fc-e68b-4641-9370-7bdd34564eee",
   "metadata": {},
   "outputs": [
    {
     "name": "stdout",
     "output_type": "stream",
     "text": [
      "[[ 0  2  4]\n",
      " [ 3  5  7]\n",
      " [ 6  8 10]]\n",
      "[[ 0  1  2]\n",
      " [ 4  5  6]\n",
      " [ 8  9 10]]\n"
     ]
    }
   ],
   "source": [
    "a = np.arange(9).reshape(3,3)\n",
    "b1 = np.arange(3).reshape(1,3)\n",
    "b2 = np.arange(3).reshape(3,1)\n",
    "print(a+b1)\n",
    "print(a+b2)"
   ]
  },
  {
   "cell_type": "markdown",
   "id": "28169d7e-148e-4137-95ca-b2c0dd91c82e",
   "metadata": {},
   "source": [
    "# More Functions"
   ]
  },
  {
   "cell_type": "code",
   "execution_count": 47,
   "id": "f1e79a8a-1a35-48eb-aa66-a3cd8b723f5b",
   "metadata": {},
   "outputs": [
    {
     "data": {
      "text/plain": [
       "0.20797400684732437"
      ]
     },
     "execution_count": 47,
     "metadata": {},
     "output_type": "execute_result"
    }
   ],
   "source": [
    "np.random.random()    # random number "
   ]
  },
  {
   "cell_type": "code",
   "execution_count": 48,
   "id": "6447935d-1099-46ad-823f-4ea5e6cb1c5a",
   "metadata": {},
   "outputs": [
    {
     "name": "stdout",
     "output_type": "stream",
     "text": [
      "0.8734294027918162\n"
     ]
    },
    {
     "data": {
      "text/plain": [
       "array([ 6, 91,  9, 84, 64, 49, 86, 61, 50, 75, 28, 14, 10, 62, 16])"
      ]
     },
     "execution_count": 48,
     "metadata": {},
     "output_type": "execute_result"
    }
   ],
   "source": [
    "np.random.seed(8)    # it helps in making the same number random everytime u run it\n",
    "print(np.random.random()  )\n",
    "np.random.randint(1,100,15)"
   ]
  },
  {
   "cell_type": "code",
   "execution_count": 49,
   "id": "df90c47f-e351-4422-93f2-c6c3629a2120",
   "metadata": {},
   "outputs": [
    {
     "name": "stdout",
     "output_type": "stream",
     "text": [
      "[94 99 60 19 15 94 57 10]\n",
      "[29.61842777 97.41166888 34.04363051 22.66130502  7.51503039 98.30418411\n",
      " 13.65771558 32.89094853]\n"
     ]
    }
   ],
   "source": [
    "print(np.random.randint(1,100,8))     # range of int\n",
    "print(np.random.uniform(1,100,8))      # range of float"
   ]
  },
  {
   "cell_type": "code",
   "execution_count": 50,
   "id": "2fbb85e4-588b-4911-bc8d-2db55898ddbb",
   "metadata": {},
   "outputs": [
    {
     "name": "stdout",
     "output_type": "stream",
     "text": [
      "[7 5 6 9 1 8]\n",
      "9 3\n",
      "1 4\n"
     ]
    },
    {
     "data": {
      "text/plain": [
       "array([ 7,  5, -1,  9,  1, -1])"
      ]
     },
     "execution_count": 50,
     "metadata": {},
     "output_type": "execute_result"
    }
   ],
   "source": [
    "a = np.random.randint(1,10,6)\n",
    "print(a)\n",
    "print( a.max() , a.argmax())     # val , index\n",
    "print( a.min() , a.argmin())\n",
    "np.where(a%2==0 , -1 , a )"
   ]
  },
  {
   "cell_type": "code",
   "execution_count": 51,
   "id": "2bf7d61b-d105-4363-90a6-342cbe0e39f1",
   "metadata": {},
   "outputs": [
    {
     "name": "stdout",
     "output_type": "stream",
     "text": [
      "[1 5 6 7 8 9]\n",
      "6.5 5.25 8.945 9.0\n"
     ]
    }
   ],
   "source": [
    "print(np.sort(a))\n",
    "print(np.percentile(a,50) , np.percentile(a,25) , np.percentile(a,98.9),np.percentile(a,100))"
   ]
  },
  {
   "cell_type": "code",
   "execution_count": null,
   "id": "2ee1725a-8de4-4b16-a837-22e7bc0a0b60",
   "metadata": {},
   "outputs": [],
   "source": []
  }
 ],
 "metadata": {
  "kernelspec": {
   "display_name": "Python [conda env:base] *",
   "language": "python",
   "name": "conda-base-py"
  },
  "language_info": {
   "codemirror_mode": {
    "name": "ipython",
    "version": 3
   },
   "file_extension": ".py",
   "mimetype": "text/x-python",
   "name": "python",
   "nbconvert_exporter": "python",
   "pygments_lexer": "ipython3",
   "version": "3.12.7"
  }
 },
 "nbformat": 4,
 "nbformat_minor": 5
}
